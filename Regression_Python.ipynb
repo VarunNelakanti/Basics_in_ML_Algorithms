{
 "cells": [
  {
   "cell_type": "code",
   "execution_count": 1,
   "metadata": {},
   "outputs": [],
   "source": [
    "from statistics import mean\n",
    "import random\n",
    "import numpy as np\n",
    "import matplotlib.pyplot as plt\n",
    "from matplotlib import style\n",
    "\n",
    "style.use('fivethirtyeight')\n"
   ]
  },
  {
   "cell_type": "code",
   "execution_count": 10,
   "metadata": {},
   "outputs": [
    {
     "name": "stdout",
     "output_type": "stream",
     "text": [
      "0.9013621362136213 4.482574257425746\n",
      "0.8421474193894566\n"
     ]
    },
    {
     "data": {
      "image/png": "[encoded data removed]",
      "text/plain": [
       "<Figure size 432x288 with 1 Axes>"
      ]
     },
     "metadata": {
      "needs_background": "light"
     },
     "output_type": "display_data"
    }
   ],
   "source": [
    "def squared_error(y_original, y_line):         \n",
    "    return sum((y_line - y_original)**2)\n",
    "\n",
    "def coefficient_of_determination(ys_orig, ys_line):\n",
    "    ys_mean = np.array([mean(ys_orig) for _ in ys_orig], dtype = np.float64)\n",
    "    square_error_reg = squared_error(ys_orig, ys_line)\n",
    "    square_error_line = squared_error(ys_orig, ys_mean)\n",
    "    return 1 - (square_error_reg/square_error_line)\n",
    "\n",
    "def generate_random_seq(nos, variance,step = 1, correlation = False):  #Generate a random sequence of x and y\n",
    "    val = 1\n",
    "    ys = []\n",
    "    for i in range(nos):\n",
    "        y = val + random.randrange(-variance,variance)\n",
    "        ys.append(y)\n",
    "        if correlation and correlation == 'pos':\n",
    "            val+=step\n",
    "        elif correlation and correlation == 'neg':\n",
    "            val-=step\n",
    "            \n",
    "    xs = [i for i in range(len(ys))]\n",
    "    return np.array(xs, dtype=np.float64) , np.array(ys, dtype= np.float64)\n",
    "\n",
    "def slope_and_intercept(xs, ys):\n",
    "    m = (mean(xs)*mean(ys) - mean(xs*ys))/((mean(xs))**2-mean(xs*xs)) # returns the slope\n",
    "    b = mean(ys) - m*mean(xs)                                         # returns the y intercept \n",
    "    return m, b\n",
    "\n",
    "xs, ys = generate_random_seq(100, 20, 1, correlation='pos')\n",
    "\n",
    "m, b = slope_and_intercept(xs, ys) \n",
    "print(m , b)\n",
    "line_regression = [(m*x) + b for x in xs]  \n",
    "r_squared = coefficient_of_determination(ys, line_regression)\n",
    "print(r_squared)\n",
    "\n",
    "\n",
    "plt.scatter(xs,ys,color='#003F72', label = 'data')\n",
    "plt.plot(xs, line_regression, label = 'regression line')\n",
    "plt.legend(loc=4)\n",
    "plt.show()"
   ]
  },
  {
   "cell_type": "code",
   "execution_count": null,
   "metadata": {},
   "outputs": [],
   "source": [
    "\n",
    "\n"
   ]
  },
  {
   "cell_type": "code",
   "execution_count": null,
   "metadata": {},
   "outputs": [],
   "source": []
  },
  {
   "cell_type": "code",
   "execution_count": null,
   "metadata": {},
   "outputs": [],
   "source": []
  },
  {
   "cell_type": "code",
   "execution_count": null,
   "metadata": {},
   "outputs": [],
   "source": []
  },
  {
   "cell_type": "code",
   "execution_count": null,
   "metadata": {},
   "outputs": [],
   "source": []
  }
 ],
 "metadata": {
  "kernelspec": {
   "display_name": "Python 3",
   "language": "python",
   "name": "python3"
  },
  "language_info": {
   "codemirror_mode": {
    "name": "ipython",
    "version": 3
   },
   "file_extension": ".py",
   "mimetype": "text/x-python",
   "name": "python",
   "nbconvert_exporter": "python",
   "pygments_lexer": "ipython3",
   "version": "3.5.2"
  }
 },
 "nbformat": 4,
 "nbformat_minor": 4
}
