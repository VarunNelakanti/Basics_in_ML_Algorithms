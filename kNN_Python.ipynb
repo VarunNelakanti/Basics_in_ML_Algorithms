{
 "cells": [
  {
   "cell_type": "code",
   "execution_count": 25,
   "metadata": {},
   "outputs": [],
   "source": [
    "#import cell, for all the libraries required in this notebook\n",
    "import pandas as pd\n",
    "import random\n",
    "import numpy as np\n",
    "import matplotlib.pyplot as plt\n",
    "from matplotlib import style\n",
    "from collections import Counter\n",
    "import warnings     #To make sure k is not even, and lesser than number of dimensions\n",
    "from math import sqrt\n",
    "\n",
    "style.use('fivethirtyeight')\n"
   ]
  },
  {
   "cell_type": "code",
   "execution_count": 26,
   "metadata": {},
   "outputs": [
    {
     "data": {
      "image/png": "[encoded data removed]",
      "text/plain": [
       "<Figure size 432x288 with 1 Axes>"
      ]
     },
     "metadata": {},
     "output_type": "display_data"
    }
   ],
   "source": [
    "#Just a cell to see the datasets and the other features\n",
    "#Just to build the intuition for how euclidean works\n",
    "\n",
    "dataset = {'g':[[1,2], [3,2], [2,4]], \n",
    "          'r': [[5,6], [7,4], [4,7]],}\n",
    "random_features = [4,5]\n",
    "[[plt.scatter(j[0], j[1], s=100, color= i) for j in dataset[i]] for i in dataset]\n",
    "plt.scatter(random_features[0], random_features[1], s=100, color = 'b')\n",
    "plt.show()"
   ]
  },
  {
   "cell_type": "code",
   "execution_count": 27,
   "metadata": {},
   "outputs": [
    {
     "name": "stdout",
     "output_type": "stream",
     "text": [
      "r\n"
     ]
    }
   ],
   "source": [
    "#cell for defining the kNN algorithm\n",
    "\n",
    "def kNN(data, predict, k = 3):\n",
    "    if len(data)>=k:\n",
    "        warnings.warn(\"Change the value of k as voting groups are greater than value of K!!!\")\n",
    "    \n",
    "    dist = []\n",
    "    for i in data:\n",
    "        for j in data[i]:\n",
    "            d = np.linalg.norm(np.array(j)- np.array(predict))   #Numpy function for calculating Euclidean Dist\n",
    "            # print(d)\n",
    "            dist.append([d, i])\n",
    "    votes = [i[1] for i in sorted(dist)[:k]]\n",
    "    \n",
    "    return Counter(votes).most_common(1)[0][0]\n",
    "\n",
    "vote = kNN(dataset, random_features, k = 3)\n",
    "print(vote)"
   ]
  },
  {
   "cell_type": "code",
   "execution_count": 30,
   "metadata": {},
   "outputs": [
    {
     "name": "stdout",
     "output_type": "stream",
     "text": [
      "Accuracy 0.9855072463768116\n"
     ]
    }
   ],
   "source": [
    "#Cell where we will add make our kNN with respect to Breast Cancer Dataframe\n",
    "\n",
    "df = pd.read_csv(\"datasets/BreastCancer/breast-cancer-wisconsin.data\")\n",
    "df.replace('?', -99999, inplace = True)\n",
    "df.drop(columns=['id'], inplace = True)\n",
    "full_data = df.astype(float).values.tolist()  #Converting to float because the column with \"?\" was a string column\n",
    "train = {2: [], 4: []}\n",
    "test = {2: [], 4: []}\n",
    "random.shuffle(full_data)  # Shuffling the list to remove order  \n",
    "X_train = full_data[:-int(0.1*len(full_data))]\n",
    "X_test = full_data[-int(0.1*len(full_data)):]\n",
    "for i in X_train:\n",
    "    train[i[-1]].append(i[:-1])\n",
    "for i in X_test:\n",
    "    test[i[-1]].append(i[:-1])\n",
    "correct, total = 0,0\n",
    "for i in test:\n",
    "    for j in test[i]:\n",
    "        votes = kNN(train, j, k=5)\n",
    "        if votes == i:\n",
    "            correct += 1\n",
    "        total +=1\n",
    "\n",
    "print(\"Accuracy\", correct/total)"
   ]
  },
  {
   "cell_type": "code",
   "execution_count": null,
   "metadata": {},
   "outputs": [],
   "source": []
  },
  {
   "cell_type": "code",
   "execution_count": null,
   "metadata": {},
   "outputs": [],
   "source": []
  }
 ],
 "metadata": {
  "kernelspec": {
   "display_name": "Python 3",
   "language": "python",
   "name": "python3"
  },
  "language_info": {
   "codemirror_mode": {
    "name": "ipython",
    "version": 3
   },
   "file_extension": ".py",
   "mimetype": "text/x-python",
   "name": "python",
   "nbconvert_exporter": "python",
   "pygments_lexer": "ipython3",
   "version": "3.5.2"
  }
 },
 "nbformat": 4,
 "nbformat_minor": 4
}
